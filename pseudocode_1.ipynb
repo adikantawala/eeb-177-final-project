{
 "cells": [
  {
   "cell_type": "code",
   "execution_count": null,
   "metadata": {
    "collapsed": true
   },
   "outputs": [],
   "source": [
    "#will first have to use shell to trim and replace the raw data to make it useable in python\n",
    "my_file_name = Dinosauria.csv\n",
    "my_file=open(my_file_name)\n",
    "my_contents = my_file.read()\n",
    "print (my_contents)\n",
    "\n",
    "#more stuff will happen/data manipulation/ visualization in R\n",
    "\n",
    "#output data/graphs into a file\n",
    "edited_data = open(\"edited data.txt\",\"w\")\n",
    "data_graphs = open(\"data_graphs.txt\", \"w\")\n",
    "edited_data.write(edited_data)\n",
    "data_graphs.write(graphs_from_R)"
   ]
  }
 ],
 "metadata": {
  "anaconda-cloud": {},
  "kernelspec": {
   "display_name": "Python [conda root]",
   "language": "python",
   "name": "conda-root-py"
  },
  "language_info": {
   "codemirror_mode": {
    "name": "ipython",
    "version": 3
   },
   "file_extension": ".py",
   "mimetype": "text/x-python",
   "name": "python",
   "nbconvert_exporter": "python",
   "pygments_lexer": "ipython3",
   "version": "3.5.2"
  }
 },
 "nbformat": 4,
 "nbformat_minor": 2
}
