{
 "cells": [
  {
   "cell_type": "code",
   "execution_count": 1,
   "metadata": {
    "collapsed": true
   },
   "outputs": [],
   "source": [
    "import matplotlib.pyplot as plt\n",
    "\n",
    "def graph_diversity(filename):\n",
    "    counter = 0\n",
    "    #wanted = target_genus\n",
    "    dino_data=open(filename)\n",
    "    time_list=[]\n",
    "    count_list=[]\n",
    "    for line in dino_data:\n",
    "#         counter = counter+1\n",
    "        positions = line.split(' \"')\n",
    "        time_list.append(positions[1].rstrip('\"\\n'))\n",
    "        count_list.append(positions[0])\n",
    "#         print(positions[0])\n",
    "#         print(positions[1])\n",
    "#     new_time_list = []\n",
    "#     for word in time_list:\n",
    "#         counter = counter +50 \n",
    "#         wordlen = len(time_list[word])\n",
    "#         temp_list = time_list[words]\n",
    "#         for element in range(0,wordlen):\n",
    "#             if temp_list[element] == \"\\n\":\n",
    "#                 temp_list.pop()\n",
    "#                 new_time_list.append(temp_list[0:])\n",
    "#     print (new_time_list)\n",
    "    len_time_list = len(time_list)\n",
    "    time_list_call=[]\n",
    "    labels = []\n",
    "    for it in range(0,len_time_list):\n",
    "        time_list_call.append(it)\n",
    "        labels.append(time_list[it])\n",
    "    \n",
    "        \n",
    "    plt.bar(time_list, count_list, align='center')\n",
    "    plt.xticks(count_list, labels)\n",
    "    plt.show()\n",
    "            \n",
    "# DayOfWeekOfCall = [1,2,3]\n",
    "# DispatchesOnThisWeekday = [77, 32, 42]\n",
    "\n",
    "# LABELS = [\"Monday\", \"Tuesday\", \"Wednesday\"]\n",
    "# plt.bar(DayOfWeekOfCall, DispatchesOnThisWeekday, align='center')\n",
    "# plt.xticks(DayOfWeekOfCall, LABELS)\n",
    "# plt.show()\n",
    "   \n",
    "        \n",
    "#     plt.plot(count_list, [1,2,3,4,5,6,7,8,9,10,11,12,13,14,15,16,17,18,19])\n",
    "#     plt.show()\n",
    "#     return time_list\n",
    "# http://stackoverflow.com/questions/9101497/matplotlib-bar-graph-x-axis-wont-plot-string-values\n",
    "#I tried graphing the diversity of the 3 most prevelant genera during each specific time period \n",
    "# and it does not let me create a graph using str values and I have tried a lot of different methods\n",
    "#but none are working "
   ]
  },
  {
   "cell_type": "code",
   "execution_count": null,
   "metadata": {
    "collapsed": true
   },
   "outputs": [],
   "source": []
  }
 ],
 "metadata": {
  "anaconda-cloud": {},
  "kernelspec": {
   "display_name": "Python [conda root]",
   "language": "python",
   "name": "conda-root-py"
  },
  "language_info": {
   "codemirror_mode": {
    "name": "ipython",
    "version": 3
   },
   "file_extension": ".py",
   "mimetype": "text/x-python",
   "name": "python",
   "nbconvert_exporter": "python",
   "pygments_lexer": "ipython3",
   "version": "3.5.2"
  }
 },
 "nbformat": 4,
 "nbformat_minor": 2
}
