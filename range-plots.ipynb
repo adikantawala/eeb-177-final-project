{
 "cells": [
  {
   "cell_type": "code",
   "execution_count": 22,
   "metadata": {
    "collapsed": false
   },
   "outputs": [],
   "source": [
    "## open the file\n",
    "\n",
    "infile = \"range_plot_dino.csv\"\n",
    "with open(infile,'r') as ff:\n",
    "    dino_recs = ff.readlines()\n"
   ]
  },
  {
   "cell_type": "code",
   "execution_count": 23,
   "metadata": {
    "collapsed": false
   },
   "outputs": [],
   "source": [
    "#use defaultdict\n",
    "from collections import defaultdict\n",
    "\n",
    "species_ranges = defaultdict(list)\n",
    "\n",
    "# make a dictionary\n",
    "for line in dino_recs:\n",
    "    species = line.split(\",\")[9]\n",
    "    minage = line.split('\",\"')[15]\n",
    "    maxage = line.split('\",\"')[14]\n",
    "    mean_age = (float(minage) + float(maxage)) /2\n",
    "    #print(minage)\n",
    "    #print(maxage)\n",
    "    species_ranges[species].append(mean_age) # add species as keys and mean ages as elements to the list of ages\n",
    "    #print(species_ranges)"
   ]
  },
  {
   "cell_type": "code",
   "execution_count": 24,
   "metadata": {
    "collapsed": false
   },
   "outputs": [],
   "source": [
    "output = open(\"dino-ranges.csv\", \"w\")\n",
    "\n",
    "# can you sort the keys\n",
    "for key in species_ranges.keys():\n",
    "    ages = species_ranges[key]\n",
    "    minage = min(ages)\n",
    "    maxage = max(ages)\n",
    "    genus = key.split(\" \")[0]\n",
    "    species = key\n",
    "    #print(genus, key, minage, maxage)\n",
    "    outline = \"{},{},{},{}\\n\".format(genus, species , minage, maxage)\n",
    "    #print(outline)\n",
    "    output.write(outline)\n",
    "output.close()"
   ]
  },
  {
   "cell_type": "code",
   "execution_count": 25,
   "metadata": {
    "collapsed": true
   },
   "outputs": [],
   "source": [
    "#removing quotes in output \n",
    "my_file= open(\"dino-ranges.csv\")\n",
    "my_line= my_file.readlines()\n",
    "output= open(\"cleaned-dino.csv\",\"w\")\n",
    "\n",
    "for line in my_line: \n",
    "    line=line.replace('\"','')\n",
    "    output.write(line)\n",
    "    #print(line) \n",
    "output.close()"
   ]
  },
  {
   "cell_type": "code",
   "execution_count": null,
   "metadata": {
    "collapsed": true
   },
   "outputs": [],
   "source": []
  }
 ],
 "metadata": {
  "anaconda-cloud": {},
  "kernelspec": {
   "display_name": "Python [conda root]",
   "language": "python",
   "name": "conda-root-py"
  },
  "language_info": {
   "codemirror_mode": {
    "name": "ipython",
    "version": 3
   },
   "file_extension": ".py",
   "mimetype": "text/x-python",
   "name": "python",
   "nbconvert_exporter": "python",
   "pygments_lexer": "ipython3",
   "version": "3.5.2"
  }
 },
 "nbformat": 4,
 "nbformat_minor": 2
}
