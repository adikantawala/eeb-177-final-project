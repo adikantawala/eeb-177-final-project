{
 "cells": [
  {
   "cell_type": "code",
   "execution_count": 12,
   "metadata": {
    "collapsed": false
   },
   "outputs": [
    {
     "name": "stdout",
     "output_type": "stream",
     "text": [
      "[]\n"
     ]
    }
   ],
   "source": [
    "#use formated_dino.csv to skip over header details\n",
    "dino_data=open(\"formated_dino.csv\")\n",
    "genus_list=[]\n",
    "for line in dino_data:\n",
    "    positions = line.split(\",\")\n",
    "    #print(positions)\n",
    "    if (positions[10]==\"gen\"):\n",
    "        genus_list.append(positions[9])\n",
    "# I am trying essentially to create a smaller list that only has all the different genera which I will then go filter \n",
    "#through to extract matching genera \n",
    "print (genus_list)\n",
    "genus_len_list = len(genus_list)\n",
    "\n",
    "#after printing export list into new csv file and get the uniq genera. USe that list of uniq genera to comapre previous list\n",
    "#this will give you number of occurances in that genera\n",
    "\n",
    "uniq_genera = open(\"uniq_genera.csv\")\n",
    "for line_uniq in uniq_genera:\n",
    "    uniq_genera_list= line_uniq.split(\",\")\n",
    "uniq_genera_list_len = len(uniq_genera_list)\n",
    "for genus in range(0,genus_len_list):\n",
    "    for uniq_genera in range(0,uniq_genera_list_len):\n",
    "        if (genus_list[genus] == uniq_genera_list[uniq_genera]):\n",
    "            #want to push append to new list seperated by value\n",
    "    \n",
    "# got stuck and its not working. will attend hacking session to work out kinks "
   ]
  },
  {
   "cell_type": "code",
   "execution_count": null,
   "metadata": {
    "collapsed": true
   },
   "outputs": [],
   "source": []
  },
  {
   "cell_type": "code",
   "execution_count": 2,
   "metadata": {
    "collapsed": false
   },
   "outputs": [
    {
     "name": "stdout",
     "output_type": "stream",
     "text": [
      "['value']\n"
     ]
    }
   ],
   "source": [
    "#test\n",
    "test_list=[]\n",
    "test_list.append(\"value\")\n",
    "print(test_list)"
   ]
  },
  {
   "cell_type": "code",
   "execution_count": 21,
   "metadata": {
    "collapsed": false
   },
   "outputs": [],
   "source": [
    "#more test \n",
    "test2_list = [\"adi\", \"red\", \"apple\", \"test\", \"mom\", \"dad\", \"sister\"]\n",
    "number = len(test2_list)\n",
    "for value in range(0,number):\n",
    "    value=[]\n",
    "    value.append(\"hi\")"
   ]
  },
  {
   "cell_type": "code",
   "execution_count": null,
   "metadata": {
    "collapsed": true
   },
   "outputs": [],
   "source": []
  }
 ],
 "metadata": {
  "anaconda-cloud": {},
  "kernelspec": {
   "display_name": "Python [conda root]",
   "language": "python",
   "name": "conda-root-py"
  },
  "language_info": {
   "codemirror_mode": {
    "name": "ipython",
    "version": 3
   },
   "file_extension": ".py",
   "mimetype": "text/x-python",
   "name": "python",
   "nbconvert_exporter": "python",
   "pygments_lexer": "ipython3",
   "version": "3.5.2"
  }
 },
 "nbformat": 4,
 "nbformat_minor": 2
}
