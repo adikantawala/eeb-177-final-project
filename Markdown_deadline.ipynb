{
 "cells": [
  {
   "cell_type": "markdown",
   "metadata": {},
   "source": [
    "# Intro\n",
    "For my project I decided to go with the paleo database. For my clade I decided to go with dinosaurs since I have been interested in dinosaurs since I was a lot younger and watched Jurassic Park. However, I realized that I do not know much about the evolutionary history of dinosaurus and thought it would be fascinating to learn more about it. For my project ideas I decided to to go with attempting to plot the diversity of a few of my genera though time and something that would give me a wider picture overall such as plotting the stratigraphic records of genera in my data set. The exact evolutionary orgin and timing is unkown but believed to be between 231 and 243 million years ago (Alcober). Dinosaurs were most dominant during the Jurassic and Cretaceous period and went extinct about 66 million years ago (Nesbitt). It will be interesting to see how my data and analysis matches up with this and if my data even reaches so far back. \n",
    "\n",
    "## references\n",
    "Alcober, Oscar A., and Ricardo N. Martinez. “A New Herrerasaurid (Dinosauria, Saurischia) from the Upper Triassic Ischigualasto Formation of Northwestern Argentina.” ZooKeys 63 (2010): 55–81. PMC. Web. 3 Mar. 2017.\n",
    "https://www.ncbi.nlm.nih.gov/pmc/articles/PMC3088398/\n",
    "\n",
    "Nesbitt, Sterling J. et al. “The Oldest Dinosaur? A Middle Triassic Dinosauriform from Tanzania.” Biology Letters 9.1 (2013): 20120949. PMC. Web. 3 Mar. 2017.\n",
    "https://www.ncbi.nlm.nih.gov/pmc/articles/PMC3565515/\n"
   ]
  },
  {
   "cell_type": "markdown",
   "metadata": {},
   "source": [
    "\n",
    "```\n",
    "#use formated_dino.csv to skip over header details but has all the fields \n",
    "def get_genus(filename):\n",
    "    counter = 0\n",
    "    dino_data=open(filename)\n",
    "    genus_list=[]\n",
    "    for line in dino_data:\n",
    "        positions = line.split(\",\")\n",
    "        #print(positions[10])\n",
    "        #print(positions)\n",
    "        if positions[10] == '\"genus\"':\n",
    "                #counter = counter +1\n",
    "             genus_list.append(positions[9])\n",
    "     # I am trying essentially to create a smaller list that only has all the different genera which I will then go filter \n",
    "     #through to extract matching genera \n",
    "    genus_list_len = len(genus_list)\n",
    "    genus_list_output = open(\"genus_list_nonuniq.csv\", \"w\")\n",
    "    for iterator in range(0,genus_list_len):\n",
    "        genus_list_output.write(genus_list[iterator]+\"\\n\")\n",
    "    genus_list_output.close()\n",
    "    return genus_list\n",
    "#output to new file to get unique genera and count from shell\n",
    "```\n",
    "This function is used to extract out the genera from the raw data file which will be needed to determine how to plot the diversity. I then used shell to sort and get the uniq since it was easier to do in the shell since I already knew how. "
   ]
  },
  {
   "cell_type": "markdown",
   "metadata": {},
   "source": [
    "```\n",
    "def genus_time_period(filename, target_genus):\n",
    "    counter = 0\n",
    "    wanted = target_genus\n",
    "    dino_data=open(filename)\n",
    "    time_list=[]\n",
    "    for line in dino_data:\n",
    "        positions = line.split(\",\")\n",
    "        #print(positions[10])\n",
    "        #print(positions)\n",
    "        if positions[9] == '\"'+wanted+'\"':\n",
    "            #weird syntax needed for the search cuz you also need to find the quotation marks \n",
    "            time_list.append(positions[12])\n",
    "    time_list_len = len(time_list)\n",
    "    time_list_out = open(str(wanted)+ \"nonuniq.csv\",\"w\")\n",
    "    for iterator in range(0, time_list_len):\n",
    "        time_list_out.write(time_list[iterator]+\"\\n\")\n",
    "    time_list_out.close()\n",
    "    return time_list\n",
    "```\n",
    "This function is used to extract out the different time periods after find the apporiate 3 genera to determine/ track the diversity of. \n",
    "\n",
    "For example, \n",
    "```\n",
    "time_list = genus_time_period(\"formated_dino.csv\", \"Iguanodon\")\n",
    "#sorted from shell to get the uniq time periods \n",
    "# sort Iguanodonnonuniq.csv |uniq -c |sort -n > uniq_time_period_Iguanodon.txt\n",
    "# used to verify done right because going to use functoin to get counts of uniq time periods \n",
    "```"
   ]
  },
  {
   "cell_type": "markdown",
   "metadata": {},
   "source": [
    "Notes: will need a fucntion now that creates a dictionary and assicoates the time period with the approaite year since I want to plot the diersity. Initially before learning R used matplotlib in python to create a bar graph to see the diversity thtough the time periods. "
   ]
  },
  {
   "cell_type": "markdown",
   "metadata": {},
   "source": [
    "```\n",
    "#graphing of diveristy to get better idea of distribution \n",
    "import matplotlib.pyplot as plt\n",
    "\n",
    "def graph_diversity(filename):\n",
    "    counter = 0\n",
    "    #wanted = target_genus\n",
    "    dino_data=open(filename)\n",
    "    time_list=[]\n",
    "    count_list=[]\n",
    "    for line in dino_data:\n",
    "#         counter = counter+1\n",
    "        positions = line.split(' \"')\n",
    "        time_list.append(positions[1].rstrip('\"\\n'))\n",
    "        count_list.append(int(positions[0]))#         print(positions[0])\n",
    "#         print(positions[1])\n",
    "#     new_time_list = []\n",
    "#     for word in time_list:\n",
    "#         counter = counter +50 \n",
    "#         wordlen = len(time_list[word])\n",
    "#         temp_list = time_list[words]\n",
    "#         for element in range(0,wordlen):\n",
    "#             if temp_list[element] == \"\\n\":\n",
    "#                 temp_list.pop()\n",
    "#                 new_time_list.append(temp_list[0:])\n",
    "#     print (new_time_list)\n",
    "    len_time_list = len(time_list)\n",
    "    time_list_call=[]\n",
    "    labels = []\n",
    "    for it in range(0,len_time_list):\n",
    "        time_list_call.append(it)\n",
    "        labels.append(time_list[it])\n",
    "    \n",
    "    # plt.bar takes two lists- so we need to give it \n",
    "    # the list of times\n",
    "    plt.bar(list(range(0,len_time_list)), count_list)\n",
    "    # we need to give it the same x-position list and the list of labels\n",
    "    # also rotate the labels to be legible...\n",
    "    plt.xticks(list(range(0,len_time_list)), labels, rotation='vertical')\n",
    "    plt.show()\n",
    "       \n",
    "# http://stackoverflow.com/questions/9101497/matplotlib-bar-graph-x-axis-wont-plot-string-values\n",
    " \n",
    "```\n",
    "This function was used initally before I learned R in class to create a simple bar graph to track the diversity of the genus through the different time periods. "
   ]
  },
  {
   "cell_type": "markdown",
   "metadata": {},
   "source": [
    "## Diversity Graph "
   ]
  },
  {
   "cell_type": "markdown",
   "metadata": {},
   "source": [
    "```\n",
    "\n",
    "from collections import defaultdict\n",
    "species_ranges = defaultdict(list)\n",
    "\n",
    "def stratigraphic_data(filename):\n",
    "    with open(filename, 'r') as ff:\n",
    "        dino_recs =ff.readlines()[1:]\n",
    "    \n",
    "     \n",
    "    dino = defaultdict(list)\n",
    "\n",
    "    for line in dino_recs:\n",
    "        species =line.split(\",\")[9]\n",
    "        minage = line.split('\",\"')[14]\n",
    "        maxage = line.split('\",\"')[15]\n",
    "        mean_age = (float(minage)+float(maxage))/2\n",
    "        \n",
    "        species_ranges[species].append(mean_age)\n",
    "        #adds species as keys and means_ages as values \n",
    "        \n",
    "        #print(species,minage,maxage)\n",
    "        #print(mean_age)\n",
    "        output = open(\"dino-ranges.csv\",\"w\")\n",
    "\n",
    "    for keys in species_ranges.keys():\n",
    "        ages = species_ranges[keys]\n",
    "        minage = min(ages)\n",
    "        maxage = max(ages)\n",
    "        genus = keys.split(\" \")[0]\n",
    "        #print(keys, minage, maxage)\n",
    "        outline = \"{},{},{},{}\\n\".format(genus,species,minage,maxage)\n",
    "        output.write(outline)\n",
    "        #output.write(genus + \",\" +keys)\n",
    "```\n",
    "This function is using what we learned in class, creating a function for the stratigraphic records ploting since before we put the data into R we have to clean it up and process it. "
   ]
  },
  {
   "cell_type": "markdown",
   "metadata": {},
   "source": [
    "##  stratigraphic records graph "
   ]
  },
  {
   "cell_type": "code",
   "execution_count": null,
   "metadata": {
    "collapsed": true
   },
   "outputs": [],
   "source": []
  }
 ],
 "metadata": {
  "anaconda-cloud": {},
  "kernelspec": {
   "display_name": "Python [conda root]",
   "language": "python",
   "name": "conda-root-py"
  },
  "language_info": {
   "codemirror_mode": {
    "name": "ipython",
    "version": 3
   },
   "file_extension": ".py",
   "mimetype": "text/x-python",
   "name": "python",
   "nbconvert_exporter": "python",
   "pygments_lexer": "ipython3",
   "version": "3.5.2"
  }
 },
 "nbformat": 4,
 "nbformat_minor": 2
}
