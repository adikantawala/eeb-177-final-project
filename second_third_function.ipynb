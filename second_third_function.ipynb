{
 "cells": [
  {
   "cell_type": "markdown",
   "metadata": {
    "collapsed": true
   },
   "source": [
    "Questions/meet with prof:\n",
    "- does everything need to be done in python?\n",
    "- is my project idea enough or do I need to do more \n",
    "- is mix of python and shell script fine \n",
    "\n",
    "Based of finding the uniq genera (txt file no github) I am going to do the second project\n",
    "idea given in the handout of plotting the diversity of the genera over time. The top 3 genera with the most occurances are  82 \"Iguanodon\", 84 \"Camarasaurus\", 103 \"Paronychodon\"\n",
    "\n",
    "writing out thoughts to help plan \n",
    "1. Need to get time periods relevant for each genera \n",
    "    1 more function \n",
    "3. need to match time period to how long ago \n",
    "\n",
    "4. what is best method of storing relevant info? give somethougt\n",
    "    if time_period \n",
    "        time_perioud_count = time_period count +1 \n",
    "        gives count of number of genera during that time period\n",
    "    will need to do for all time periods and then for all genera \n",
    "    \n",
    "\n",
    "\n",
    "Ignore below: old thoughts/ old psuedocode (kept because might be useful though \n",
    " after printing export list into new csv file and get the uniq genera. USe that list of uniq genera to comapre previous list\n",
    " this will give you number of occurances in that genera\n",
    "\n",
    " uniq_genera = open(\"uniq_genera.csv\")\n",
    " for line_uniq in uniq_genera:\n",
    "     uniq_genera_list= line_uniq.split(\",\")\n",
    " uniq_genera_list_len = len(uniq_genera_list)\n",
    " for genus in range(0,genus_len_list):\n",
    "     for uniq_genera in range(0,uniq_genera_list_len):\n",
    "         if (genus_list[genus] == uniq_genera_list[uniq_genera]):\n",
    "             #want to push append to new list seperated by value\n",
    "    \n",
    " got stuck and its not working. will attend hacking session to work out kinks "
   ]
  },
  {
   "cell_type": "markdown",
   "metadata": {},
   "source": []
  },
  {
   "cell_type": "code",
   "execution_count": 12,
   "metadata": {
    "collapsed": false
   },
   "outputs": [],
   "source": [
    "def genus_time_period(filename, target_genus):\n",
    "    counter = 0\n",
    "    wanted = target_genus\n",
    "    dino_data=open(filename)\n",
    "    time_list=[]\n",
    "    for line in dino_data:\n",
    "        positions = line.split(\",\")\n",
    "        #print(positions[10])\n",
    "        #print(positions)\n",
    "        if positions[9] == '\"'+wanted+'\"':\n",
    "            #weird syntax needed for the search cuz you also need to find the quotation marks \n",
    "            time_list.append(positions[12])\n",
    "    time_list_len = len(time_list)\n",
    "    time_list_out = open(str(wanted)+ \"nonuniq.csv\",\"w\")\n",
    "    for iterator in range(0, time_list_len):\n",
    "        time_list_out.write(time_list[iterator]+\"\\n\")\n",
    "    time_list_out.close()\n",
    "    return time_list"
   ]
  },
  {
   "cell_type": "code",
   "execution_count": 13,
   "metadata": {
    "collapsed": false,
    "scrolled": false
   },
   "outputs": [],
   "source": [
    "time_list = genus_time_period(\"formated_dino.csv\", \"Iguanodon\")\n",
    "#sorted from shell to get the uniq time periods \n",
    "# sort Iguanodonnonuniq.csv |uniq -c |sort -n > uniq_time_period_Iguanodon.txt\n",
    "# used to verify done right because going to use functoin to get counts of uniq time periods \n"
   ]
  },
  {
   "cell_type": "code",
   "execution_count": null,
   "metadata": {
    "collapsed": false
   },
   "outputs": [],
   "source": [
    "#working on it but my 2 functions for the dealine already work \n",
    "def time_period_count(time_list):\n",
    "    time_list_length = len(time_list)\n",
    "    count_time_list =[time_list[0]]\n",
    "    for number in range(1,time_list_length):\n",
    "        #print(\"test1\")\n",
    "        count_time_list_len = len(count_time_list)\n",
    "#         print(count_time_list_len)\n",
    "        for iterator_val in range(0,count_time_list_len):\n",
    "                print(\"test2\")\n",
    "                if time_list[number] != count_time_list[iterator_val]:\n",
    "                        print(\"test3\")\n",
    "                        count_time_list. append(time_list[number])\n",
    "    print (count_time_list)"
   ]
  },
  {
   "cell_type": "code",
   "execution_count": null,
   "metadata": {
    "collapsed": false
   },
   "outputs": [],
   "source": [
    "# print (time_list)\n",
    "time_period_count(time_list)"
   ]
  },
  {
   "cell_type": "code",
   "execution_count": 18,
   "metadata": {
    "collapsed": false,
    "scrolled": false
   },
   "outputs": [
    {
     "data": {
      "text/plain": [
       "['\"Kimmeridgian\"',\n",
       " '\"Kimmeridgian\"',\n",
       " '\"Late Kimmeridgian\"',\n",
       " '\"Late Jurassic\"',\n",
       " '\"Kimmeridgian\"',\n",
       " '\"Kimmeridgian\"',\n",
       " '\"Kimmeridgian\"',\n",
       " '\"Kimmeridgian\"',\n",
       " '\"Kimmeridgian\"',\n",
       " '\"Kimmeridgian\"',\n",
       " '\"Kimmeridgian\"',\n",
       " '\"Kimmeridgian\"',\n",
       " '\"Kimmeridgian\"',\n",
       " '\"Kimmeridgian\"',\n",
       " '\"Kimmeridgian\"',\n",
       " '\"Kimmeridgian\"',\n",
       " '\"Kimmeridgian\"',\n",
       " '\"Kimmeridgian\"',\n",
       " '\"Tithonian\"',\n",
       " '\"Tithonian\"',\n",
       " '\"Late Kimmeridgian\"',\n",
       " '\"Late Kimmeridgian\"',\n",
       " '\"Late Kimmeridgian\"',\n",
       " '\"Kimmeridgian\"',\n",
       " '\"Kimmeridgian\"',\n",
       " '\"Kimmeridgian\"',\n",
       " '\"Tithonian\"',\n",
       " '\"Kimmeridgian\"',\n",
       " '\"Kimmeridgian\"',\n",
       " '\"Kimmeridgian\"',\n",
       " '\"Kimmeridgian\"',\n",
       " '\"Kimmeridgian\"',\n",
       " '\"Kimmeridgian\"',\n",
       " '\"Late Kimmeridgian\"',\n",
       " '\"Late Kimmeridgian\"',\n",
       " '\"Kimmeridgian\"',\n",
       " '\"Kimmeridgian\"',\n",
       " '\"Kimmeridgian\"',\n",
       " '\"Kimmeridgian\"',\n",
       " '\"Kimmeridgian\"',\n",
       " '\"Kimmeridgian\"',\n",
       " '\"Kimmeridgian\"',\n",
       " '\"Kimmeridgian\"',\n",
       " '\"Kimmeridgian\"',\n",
       " '\"Kimmeridgian\"',\n",
       " '\"Kimmeridgian\"',\n",
       " '\"Kimmeridgian\"',\n",
       " '\"Kimmeridgian\"',\n",
       " '\"Kimmeridgian\"',\n",
       " '\"Kimmeridgian\"',\n",
       " '\"Kimmeridgian\"',\n",
       " '\"Kimmeridgian\"',\n",
       " '\"Kimmeridgian\"',\n",
       " '\"Kimmeridgian\"',\n",
       " '\"Kimmeridgian\"',\n",
       " '\"Kimmeridgian\"',\n",
       " '\"Early Tithonian\"',\n",
       " '\"Late Aptian\"',\n",
       " '\"Late Jurassic\"',\n",
       " '\"Kimmeridgian\"',\n",
       " '\"Kimmeridgian\"',\n",
       " '\"Kimmeridgian\"',\n",
       " '\"Kimmeridgian\"',\n",
       " '\"Late Kimmeridgian\"',\n",
       " '\"Late Kimmeridgian\"',\n",
       " '\"Early Tithonian\"',\n",
       " '\"Late Oxfordian\"',\n",
       " '\"Kimmeridgian\"',\n",
       " '\"Kimmeridgian\"',\n",
       " '\"Late Oxfordian\"',\n",
       " '\"Tithonian\"',\n",
       " '\"Tithonian\"',\n",
       " '\"Kimmeridgian\"',\n",
       " '\"Kimmeridgian\"',\n",
       " '\"Kimmeridgian\"',\n",
       " '\"Kimmeridgian\"',\n",
       " '\"Kimmeridgian\"',\n",
       " '\"Kimmeridgian\"',\n",
       " '\"Kimmeridgian\"',\n",
       " '\"Kimmeridgian\"',\n",
       " '\"Early Tithonian\"',\n",
       " '\"Kimmeridgian\"',\n",
       " '\"Kimmeridgian\"',\n",
       " '\"Kimmeridgian\"']"
      ]
     },
     "execution_count": 18,
     "metadata": {},
     "output_type": "execute_result"
    }
   ],
   "source": [
    "genus_time_period(\"formated_dino.csv\", \"Camarasaurus\")\n",
    "# Camarasaurusnonuniq.csv |uniq -c |sort -n > uniq_time_period_Camarasaurus.txt\n",
    "# # used to verify done right because going to use functoin to get counts of uniq time periods "
   ]
  },
  {
   "cell_type": "code",
   "execution_count": 17,
   "metadata": {
    "collapsed": false,
    "scrolled": false
   },
   "outputs": [
    {
     "data": {
      "text/plain": [
       "['\"Lancian\"',\n",
       " '\"Late Maastrichtian\"',\n",
       " '\"Late Campanian\"',\n",
       " '\"Late Campanian\"',\n",
       " '\"Kimmeridgian\"',\n",
       " '\"Maastrichtian\"',\n",
       " '\"Maastrichtian\"',\n",
       " '\"Lancian\"',\n",
       " '\"Maastrichtian\"',\n",
       " '\"Maastrichtian\"',\n",
       " '\"Maastrichtian\"',\n",
       " '\"Maastrichtian\"',\n",
       " '\"Maastrichtian\"',\n",
       " '\"Maastrichtian\"',\n",
       " '\"Maastrichtian\"',\n",
       " '\"Maastrichtian\"',\n",
       " '\"Maastrichtian\"',\n",
       " '\"Maastrichtian\"',\n",
       " '\"Late Maastrichtian\"',\n",
       " '\"Middle Campanian\"',\n",
       " '\"Middle Campanian\"',\n",
       " '\"Middle Campanian\"',\n",
       " '\"Middle Campanian\"',\n",
       " '\"Late Campanian\"',\n",
       " '\"Late Campanian\"',\n",
       " '\"Campanian\"',\n",
       " '\"Middle Campanian\"',\n",
       " '\"Campanian\"',\n",
       " '\"Late Campanian\"',\n",
       " '\"Maastrichtian\"',\n",
       " '\"Lancian\"',\n",
       " '\"Lancian\"',\n",
       " '\"Late Campanian\"',\n",
       " '\"Campanian\"',\n",
       " '\"Late Campanian\"',\n",
       " '\"Middle Campanian\"',\n",
       " '\"Lancian\"',\n",
       " '\"Lancian\"',\n",
       " '\"Lancian\"',\n",
       " '\"Lancian\"',\n",
       " '\"Lancian\"',\n",
       " '\"Lancian\"',\n",
       " '\"Lancian\"',\n",
       " '\"Lancian\"',\n",
       " '\"Late Maastrichtian\"',\n",
       " '\"Lancian\"',\n",
       " '\"Lancian\"',\n",
       " '\"Lancian\"',\n",
       " '\"Lancian\"',\n",
       " '\"Late Albian\"',\n",
       " '\"Hauterivian\"',\n",
       " '\"Late Campanian\"',\n",
       " '\"Maastrichtian\"',\n",
       " '\"Late Campanian\"',\n",
       " '\"Early Maastrichtian\"',\n",
       " '\"Late Barremian\"',\n",
       " '\"Campanian\"',\n",
       " '\"Judithian\"',\n",
       " '\"Judithian\"',\n",
       " '\"Middle Campanian\"',\n",
       " '\"Middle Campanian\"',\n",
       " '\"Middle Campanian\"',\n",
       " '\"Late Campanian\"',\n",
       " '\"Late Campanian\"',\n",
       " '\"Late Campanian\"',\n",
       " '\"Late Campanian\"',\n",
       " '\"Late Campanian\"',\n",
       " '\"Late Campanian\"',\n",
       " '\"Late Campanian\"',\n",
       " '\"Late Campanian\"',\n",
       " '\"Late Campanian\"',\n",
       " '\"Late Campanian\"',\n",
       " '\"Late Campanian\"',\n",
       " '\"Late Campanian\"',\n",
       " '\"Middle Campanian\"',\n",
       " '\"Late Campanian\"',\n",
       " '\"Late Campanian\"',\n",
       " '\"Early Maastrichtian\"',\n",
       " '\"Lancian\"',\n",
       " '\"Lancian\"',\n",
       " '\"Late Albian\"',\n",
       " '\"Lancian\"',\n",
       " '\"Lancian\"',\n",
       " '\"Lancian\"',\n",
       " '\"Maastrichtian\"',\n",
       " '\"Maastrichtian\"',\n",
       " '\"Late Maastrichtian\"',\n",
       " '\"Lancian\"',\n",
       " '\"Lancian\"',\n",
       " '\"Lancian\"',\n",
       " '\"Lancian\"',\n",
       " '\"Lancian\"',\n",
       " '\"Lancian\"',\n",
       " '\"Late Maastrichtian\"',\n",
       " '\"Late Hauterivian\"',\n",
       " '\"Early Maastrichtian\"',\n",
       " '\"Lancian\"',\n",
       " '\"Lancian\"',\n",
       " '\"Late Campanian\"',\n",
       " '\"Late Campanian\"',\n",
       " '\"Late Campanian\"',\n",
       " '\"Late Campanian\"',\n",
       " '\"Maastrichtian\"']"
      ]
     },
     "execution_count": 17,
     "metadata": {},
     "output_type": "execute_result"
    }
   ],
   "source": [
    "genus_time_period(\"formated_dino.csv\", \"Paronychodon\")\n",
    "# sort Paronychodonnonuniq.csv |uniq -c |sort -n > uniq_time_period_Paronychodon.txt\n",
    "# used to verify done right because going to use functoin to get counts of uniq time periods "
   ]
  },
  {
   "cell_type": "code",
   "execution_count": 1,
   "metadata": {
    "collapsed": false
   },
   "outputs": [],
   "source": [
    "#graphing of diveristy to get better idea of distribution \n",
    "import matplotlib.pyplot as plt\n",
    "\n",
    "def graph_diversity(filename):\n",
    "    counter = 0\n",
    "    #wanted = target_genus\n",
    "    dino_data=open(filename)\n",
    "    time_list=[]\n",
    "    count_list=[]\n",
    "    for line in dino_data:\n",
    "#         counter = counter+1\n",
    "        positions = line.split(' \"')\n",
    "        time_list.append(positions[1].rstrip('\"\\n'))\n",
    "        count_list.append(int(positions[0]))#         print(positions[0])\n",
    "#         print(positions[1])\n",
    "#     new_time_list = []\n",
    "#     for word in time_list:\n",
    "#         counter = counter +50 \n",
    "#         wordlen = len(time_list[word])\n",
    "#         temp_list = time_list[words]\n",
    "#         for element in range(0,wordlen):\n",
    "#             if temp_list[element] == \"\\n\":\n",
    "#                 temp_list.pop()\n",
    "#                 new_time_list.append(temp_list[0:])\n",
    "#     print (new_time_list)\n",
    "    len_time_list = len(time_list)\n",
    "    time_list_call=[]\n",
    "    labels = []\n",
    "    for it in range(0,len_time_list):\n",
    "        time_list_call.append(it)\n",
    "        labels.append(time_list[it])\n",
    "    \n",
    "    # plt.bar takes two lists- so we need to give it \n",
    "    # the list of times\n",
    "    plt.bar(list(range(0,len_time_list)), count_list)\n",
    "    # we need to give it the same x-position list and the list of labels\n",
    "    # also rotate the labels to be legible...\n",
    "    plt.xticks(list(range(0,len_time_list)), labels, rotation='vertical')\n",
    "    plt.show()\n",
    "            \n",
    "# DayOfWeekOfCall = [1,2,3]\n",
    "# DispatchesOnThisWeekday = [77, 32, 42]\n",
    "\n",
    "# LABELS = [\"Monday\", \"Tuesday\", \"Wednesday\"]\n",
    "# plt.bar(DayOfWeekOfCall, DispatchesOnThisWeekday, align='center')\n",
    "# plt.xticks(DayOfWeekOfCall, LABELS)\n",
    "# plt.show()\n",
    "   \n",
    "        \n",
    "#     plt.plot(count_list, [1,2,3,4,5,6,7,8,9,10,11,12,13,14,15,16,17,18,19])\n",
    "#     plt.show()\n",
    "#     return time_list\n",
    "# http://stackoverflow.com/questions/9101497/matplotlib-bar-graph-x-axis-wont-plot-string-values\n",
    "#I tried graphing the diversity of the 3 most prevelant genera during each specific time period \n",
    "# and it does not let me create a graph using str values and I have tried a lot of different methods\n",
    "#but none are working "
   ]
  },
  {
   "cell_type": "code",
   "execution_count": 2,
   "metadata": {
    "collapsed": false
   },
   "outputs": [
    {
     "data": {
      "image/png": "[encoded data removed]",
      "text/plain": [
       "<matplotlib.figure.Figure at 0x7fd22845e2e8>"
      ]
     },
     "metadata": {},
     "output_type": "display_data"
    }
   ],
   "source": [
    "graph_diversity(\"uniq_time_period_Iguanodon.txt\")"
   ]
  },
  {
   "cell_type": "code",
   "execution_count": 13,
   "metadata": {
    "collapsed": false
   },
   "outputs": [
    {
     "name": "stdout",
     "output_type": "stream",
     "text": [
      "[1, 2, 3, 4, 5, 6, 7, 8]\n"
     ]
    }
   ],
   "source": [
    "#test\n",
    "\n",
    "rand_list = [1,2,3,4,5,6,7,8,9]\n",
    "rand_list.pop()\n",
    "print(rand_list)"
   ]
  },
  {
   "cell_type": "code",
   "execution_count": 28,
   "metadata": {
    "collapsed": false
   },
   "outputs": [],
   "source": [
    "#using what we learned in class, creating function for stratigraphic graphic ploting since \n",
    "#we have to implement more than one idea from the final projects idea sheet \n",
    "from collections import defaultdict\n",
    "species_ranges = defaultdict(list)\n",
    "\n",
    "def stratigraphic_data(filename):\n",
    "    with open(filename, 'r') as ff:\n",
    "        dino_recs =ff.readlines()[1:]\n",
    "    \n",
    "     \n",
    "    dino = defaultdict(list)\n",
    "\n",
    "    for line in dino_recs:\n",
    "        species =line.split(\",\")[9]\n",
    "        minage = line.split('\",\"')[14]\n",
    "        maxage = line.split('\",\"')[15]\n",
    "        mean_age = (float(minage)+float(maxage))/2\n",
    "        \n",
    "        species_ranges[species].append(mean_age)\n",
    "        #adds species as keys and means_ages as values \n",
    "        \n",
    "        #print(species,minage,maxage)\n",
    "        #print(mean_age)\n",
    "        output = open(\"dino-ranges.csv\",\"w\")\n",
    "\n",
    "    for keys in species_ranges.keys():\n",
    "        ages = species_ranges[keys]\n",
    "        minage = min(ages)\n",
    "        maxage = max(ages)\n",
    "        genus = keys.split(\" \")[0]\n",
    "        #print(keys, minage, maxage)\n",
    "        outline = \"{},{},{},{}\\n\".format(genus,species,minage,maxage)\n",
    "        output.write(outline)\n",
    "        #output.write(genus + \",\" +keys)\n",
    "    "
   ]
  },
  {
   "cell_type": "code",
   "execution_count": 29,
   "metadata": {
    "collapsed": false
   },
   "outputs": [],
   "source": [
    "stratigraphic_data(\"formated_dino.csv\")"
   ]
  },
  {
   "cell_type": "code",
   "execution_count": null,
   "metadata": {
    "collapsed": true
   },
   "outputs": [],
   "source": []
  }
 ],
 "metadata": {
  "anaconda-cloud": {},
  "kernelspec": {
   "display_name": "Python [conda root]",
   "language": "python",
   "name": "conda-root-py"
  },
  "language_info": {
   "codemirror_mode": {
    "name": "ipython",
    "version": 3
   },
   "file_extension": ".py",
   "mimetype": "text/x-python",
   "name": "python",
   "nbconvert_exporter": "python",
   "pygments_lexer": "ipython3",
   "version": "3.5.2"
  }
 },
 "nbformat": 4,
 "nbformat_minor": 2
}
