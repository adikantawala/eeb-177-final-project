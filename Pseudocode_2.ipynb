{
 "cells": [
  {
   "cell_type": "code",
   "execution_count": null,
   "metadata": {
    "collapsed": true
   },
   "outputs": [],
   "source": [
    "#assuming data has been already been extracted and is broken up into variables \n",
    "# attempting to graph time vs species to see when different species arose and it should give you \n",
    "#an idea about the phylogentic tree \n",
    "\n",
    "for species in list_species:\n",
    "    graph(x_axis\"time\", y_axis \"species\",title \"Sepcies\")\n",
    "\n",
    "\n",
    "# I am not very sure what sort of data manipulation is supposed \n",
    "#to be done for the data so I struggled with writing this part of the pseudocode for the project"
   ]
  }
 ],
 "metadata": {
  "anaconda-cloud": {},
  "kernelspec": {
   "display_name": "Python [conda root]",
   "language": "python",
   "name": "conda-root-py"
  },
  "language_info": {
   "codemirror_mode": {
    "name": "ipython",
    "version": 3
   },
   "file_extension": ".py",
   "mimetype": "text/x-python",
   "name": "python",
   "nbconvert_exporter": "python",
   "pygments_lexer": "ipython3",
   "version": "3.5.2"
  }
 },
 "nbformat": 4,
 "nbformat_minor": 2
}
