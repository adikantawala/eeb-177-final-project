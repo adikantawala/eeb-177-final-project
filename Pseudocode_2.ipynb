{
 "cells": [
  {
   "cell_type": "code",
   "execution_count": null,
   "metadata": {
    "collapsed": true
   },
   "outputs": [],
   "source": [
    "#assuming data has been already been extracted and is broken up into variables \n",
    "# attempting to graph time vs genera to see diversity as in the second example profided in the peoject idea  \n",
    "# will be done in R  \n",
    "#reworked after office hours but will go again becuase I still need more help \n",
    "\n",
    "for species in list_species:\n",
    "    graph(x_axis\"time\", y_axis \"species\",title \"Sepcies\")\n",
    "\n",
    "\n",
    "# I am not very sure what sort of data manipulation is supposed \n",
    "#to be done for the data so I struggled with writing this part of the pseudocode for the project\n",
    "\n",
    "#basically should be similar to the code provided in the example. Included below for reference \n",
    "data(traits)\n",
    "attach(traits)\n",
    "\n",
    "## 1. A simple bivariant plot\n",
    " geoscalePlot(age,trait)\n",
    "\n",
    "## 2. Including the entire time scale\n",
    " geoscalePlot(age,trait,units=c(\"Eon\",\"Era\",\"Age\",\"Epoch\",\"Period\"),type=\"l\")\n",
    " \n",
    "## 3. Including abbreviations in the time scale\n",
    " # (a) For one or more temporal units\n",
    "  geoscalePlot(age,trait,units=c(\"Eon\",\"Era\",\"Age\",\"Epoch\",\"Period\"),type=\"l\",\n",
    "   abbrev=c(\"Age\",\"Epoch\"))\n",
    " # (b) For all temporal units\n",
    "  geoscalePlot(age,trait,units=c(\"Eon\",\"Era\",\"Age\",\"Epoch\",\"Period\"),type=\"l\",\n",
    "   abbrev=c(\"All\"))\n",
    "\n",
    "## 4. Rotating names in the time scale\n",
    "  geoscalePlot(age,trait,units=c(\"Eon\",\"Era\",\"Age\",\"Epoch\",\"Period\"),type=\"l\",\n",
    "   erotate=45)\n",
    "\n",
    "### Including a user defined timescale\n",
    "\n",
    "data(traits)\n",
    " attach(traits)\n",
    "  data(biozones)\n",
    "\n",
    "geoscalePlot(age,trait,boxes=\"User\",user.scale=biozones,type=\"o\",\n",
    " units=c(\"Age\",\"Period\",\"User\"),xlim=c(65,95),tick.scale=\"User\")\n"
   ]
  }
 ],
 "metadata": {
  "anaconda-cloud": {},
  "kernelspec": {
   "display_name": "Python [conda root]",
   "language": "python",
   "name": "conda-root-py"
  },
  "language_info": {
   "codemirror_mode": {
    "name": "ipython",
    "version": 3
   },
   "file_extension": ".py",
   "mimetype": "text/x-python",
   "name": "python",
   "nbconvert_exporter": "python",
   "pygments_lexer": "ipython3",
   "version": "3.5.2"
  }
 },
 "nbformat": 4,
 "nbformat_minor": 2
}
