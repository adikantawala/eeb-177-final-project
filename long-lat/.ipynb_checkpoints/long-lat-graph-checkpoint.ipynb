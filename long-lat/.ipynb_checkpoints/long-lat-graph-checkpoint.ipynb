{
 "cells": [
  {
   "cell_type": "code",
   "execution_count": 13,
   "metadata": {
    "collapsed": false
   },
   "outputs": [],
   "source": [
    "in_file = open(\"edited-long-lat.csv\")\n",
    "#output = open(\"output_lat_long.csv\", \"w\")\n",
    "output_lat= open(\"output_lat.csv\", \"w\")\n",
    "output_long = open(\"output_long.csv\", \"w\")\n",
    "\n",
    "lat = []\n",
    "long = []\n",
    "\n",
    "for line in in_file:\n",
    "    temp_lats = line.split('\",\"')[17]\n",
    "    temp_longs = line.split('\",\"')[16]\n",
    "    outline1 = \"{}\\n\".format(temp_lats)\n",
    "    outline2 = \"{}\\n\".format(temp_longs)\n",
    "\n",
    "    #lat.append(float(temp_lats))\n",
    "    #long.append(float(temp_lons))\n",
    "    output_lat.write(outline1)\n",
    "    output_long.write(outline2)\n",
    "output_lat.close()\n",
    "output_long.close()"
   ]
  },
  {
   "cell_type": "code",
   "execution_count": null,
   "metadata": {
    "collapsed": false
   },
   "outputs": [],
   "source": []
  },
  {
   "cell_type": "code",
   "execution_count": null,
   "metadata": {
    "collapsed": true
   },
   "outputs": [],
   "source": []
  }
 ],
 "metadata": {
  "anaconda-cloud": {},
  "kernelspec": {
   "display_name": "Python [conda root]",
   "language": "python",
   "name": "conda-root-py"
  },
  "language_info": {
   "codemirror_mode": {
    "name": "ipython",
    "version": 3
   },
   "file_extension": ".py",
   "mimetype": "text/x-python",
   "name": "python",
   "nbconvert_exporter": "python",
   "pygments_lexer": "ipython3",
   "version": "3.5.2"
  }
 },
 "nbformat": 4,
 "nbformat_minor": 2
}
